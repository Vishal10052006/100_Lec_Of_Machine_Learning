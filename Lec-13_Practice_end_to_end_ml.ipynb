{
 "cells": [
  {
   "cell_type": "markdown",
   "id": "78eebf99-32df-4d68-815f-4e01dd00a96e",
   "metadata": {},
   "source": [
    "# Practice_end_to_end_ml\n"
   ]
  },
  {
   "cell_type": "code",
   "execution_count": 2,
   "id": "42965d0b-815c-4004-8d22-382388dce035",
   "metadata": {},
   "outputs": [],
   "source": [
    "import numpy as np\n",
    "import pandas as pd"
   ]
  },
  {
   "cell_type": "code",
   "execution_count": null,
   "id": "ae86a977-f556-4d96-afeb-fb844fdb6ecc",
   "metadata": {},
   "outputs": [],
   "source": [
    "df = pd.read_csv(\"100 Days ML(Machine Learning)/placement_data.csv\")"
   ]
  }
 ],
 "metadata": {
  "kernelspec": {
   "display_name": "Python 3 (ipykernel)",
   "language": "python",
   "name": "python3"
  },
  "language_info": {
   "codemirror_mode": {
    "name": "ipython",
    "version": 3
   },
   "file_extension": ".py",
   "mimetype": "text/x-python",
   "name": "python",
   "nbconvert_exporter": "python",
   "pygments_lexer": "ipython3",
   "version": "3.13.5"
  }
 },
 "nbformat": 4,
 "nbformat_minor": 5
}
